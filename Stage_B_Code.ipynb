{
  "nbformat": 4,
  "nbformat_minor": 0,
  "metadata": {
    "colab": {
      "name": "Stage_B_Code.ipynb",
      "provenance": [],
      "collapsed_sections": [],
      "authorship_tag": "ABX9TyOgY/k3Q9pFSz8jnOVC5NpF",
      "include_colab_link": true
    },
    "kernelspec": {
      "name": "python3",
      "display_name": "Python 3"
    }
  },
  "cells": [
    {
      "cell_type": "markdown",
      "metadata": {
        "id": "view-in-github",
        "colab_type": "text"
      },
      "source": [
        "<a href=\"https://colab.research.google.com/github/benzine01/Ebenezer_Ise/blob/master/Stage_B_Code.ipynb\" target=\"_parent\"><img src=\"https://colab.research.google.com/assets/colab-badge.svg\" alt=\"Open In Colab\"/></a>"
      ]
    },
    {
      "cell_type": "code",
      "metadata": {
        "id": "l3WvG_0syhmM",
        "colab_type": "code",
        "colab": {}
      },
      "source": [
        "#Importing our dataset and loading the necessary libraries\n",
        "import numpy as np \n",
        "import pandas as pd # data processing,\n",
        "# for plotting\n",
        "import matplotlib.pyplot as plt \n",
        "import seaborn as sns\n",
        "import matplotlib.gridspec as gridspec\n",
        "import statsmodels.api as sm\n",
        "dframe=dframe=pd.read_excel('https://archive.ics.uci.edu/ml/machine-learning-databases/00242/ENB2012_data.xlsx')\n",
        "#dframe.head()\n",
        "#Renaming the variables\n",
        "column_names = {'X1':'Relative_Compactness', 'X2': 'Surface_Area', \n",
        "                'X3':  'Wall_Area', 'X4': 'Roof_Area', 'X5': 'Overall_Height',\n",
        "                'X6': 'Orientation', 'X7': 'Glazing_Area', \n",
        "                'X8': 'Glazing_Area_Distribution', \n",
        "                'Y1': 'Heating_Load', 'Y2': 'Cooling_Load'}\n",
        "\n",
        "\n",
        "dfram = dframe.rename(columns=column_names)\n",
        "dframe.head()\n"
      ],
      "execution_count": null,
      "outputs": []
    },
    {
      "cell_type": "code",
      "metadata": {
        "id": "KZX_OpIZcNfT",
        "colab_type": "code",
        "colab": {}
      },
      "source": [
        "#Renaming the variables\n",
        "column_names = {'X1':'Relative_Compactness', 'X2': 'Surface_Area', \n",
        "                'X3':  'Wall_Area', 'X4': 'Roof_Area', 'X5': 'Overall_Height',\n",
        "                'X6': 'Orientation', 'X7': 'Glazing_Area', \n",
        "                'X8': 'Glazing_Area_Distribution', \n",
        "                'Y1': 'Heating_Load', 'Y2': 'Cooling_Load'}\n",
        "\n",
        "\n",
        "dfram = dframe.rename(columns=column_names)\n",
        "dframe.head()"
      ],
      "execution_count": null,
      "outputs": []
    },
    {
      "cell_type": "code",
      "metadata": {
        "id": "DRkLucyfdcmr",
        "colab_type": "code",
        "colab": {
          "base_uri": "https://localhost:8080/",
          "height": 406
        },
        "outputId": "e17890ea-439a-43e6-8e5d-138229911d01"
      },
      "source": [
        "#we normalise our dataset to a common scale using the min max scaler\n",
        "from sklearn.preprocessing import MinMaxScaler\n",
        "import pandas as pd\n",
        "scaler = MinMaxScaler()\n",
        "normalised_df = pd.DataFrame(scaler.fit_transform(dframe), columns=dframe.columns)\n",
        "features_df = normalised_df.drop(columns=['Heating_Load', 'Cooling_Load'])\n",
        "heating_target = normalised_df['Heating_Load']\n",
        "dframe\n"
      ],
      "execution_count": null,
      "outputs": [
        {
          "output_type": "execute_result",
          "data": {
            "text/html": [
              "<div>\n",
              "<style scoped>\n",
              "    .dataframe tbody tr th:only-of-type {\n",
              "        vertical-align: middle;\n",
              "    }\n",
              "\n",
              "    .dataframe tbody tr th {\n",
              "        vertical-align: top;\n",
              "    }\n",
              "\n",
              "    .dataframe thead th {\n",
              "        text-align: right;\n",
              "    }\n",
              "</style>\n",
              "<table border=\"1\" class=\"dataframe\">\n",
              "  <thead>\n",
              "    <tr style=\"text-align: right;\">\n",
              "      <th></th>\n",
              "      <th>Relative_Compactness</th>\n",
              "      <th>Surface_Area</th>\n",
              "      <th>Wall_Area</th>\n",
              "      <th>Roof_Area</th>\n",
              "      <th>Overall_Height</th>\n",
              "      <th>Orientation</th>\n",
              "      <th>Glazing_Area</th>\n",
              "      <th>Glazing_Area_Distribution</th>\n",
              "      <th>Heating_Load</th>\n",
              "      <th>Cooling_Load</th>\n",
              "    </tr>\n",
              "  </thead>\n",
              "  <tbody>\n",
              "    <tr>\n",
              "      <th>0</th>\n",
              "      <td>0.98</td>\n",
              "      <td>514.5</td>\n",
              "      <td>294.0</td>\n",
              "      <td>110.25</td>\n",
              "      <td>7.0</td>\n",
              "      <td>2</td>\n",
              "      <td>0.0</td>\n",
              "      <td>0</td>\n",
              "      <td>15.55</td>\n",
              "      <td>21.33</td>\n",
              "    </tr>\n",
              "    <tr>\n",
              "      <th>1</th>\n",
              "      <td>0.98</td>\n",
              "      <td>514.5</td>\n",
              "      <td>294.0</td>\n",
              "      <td>110.25</td>\n",
              "      <td>7.0</td>\n",
              "      <td>3</td>\n",
              "      <td>0.0</td>\n",
              "      <td>0</td>\n",
              "      <td>15.55</td>\n",
              "      <td>21.33</td>\n",
              "    </tr>\n",
              "    <tr>\n",
              "      <th>2</th>\n",
              "      <td>0.98</td>\n",
              "      <td>514.5</td>\n",
              "      <td>294.0</td>\n",
              "      <td>110.25</td>\n",
              "      <td>7.0</td>\n",
              "      <td>4</td>\n",
              "      <td>0.0</td>\n",
              "      <td>0</td>\n",
              "      <td>15.55</td>\n",
              "      <td>21.33</td>\n",
              "    </tr>\n",
              "    <tr>\n",
              "      <th>3</th>\n",
              "      <td>0.98</td>\n",
              "      <td>514.5</td>\n",
              "      <td>294.0</td>\n",
              "      <td>110.25</td>\n",
              "      <td>7.0</td>\n",
              "      <td>5</td>\n",
              "      <td>0.0</td>\n",
              "      <td>0</td>\n",
              "      <td>15.55</td>\n",
              "      <td>21.33</td>\n",
              "    </tr>\n",
              "    <tr>\n",
              "      <th>4</th>\n",
              "      <td>0.90</td>\n",
              "      <td>563.5</td>\n",
              "      <td>318.5</td>\n",
              "      <td>122.50</td>\n",
              "      <td>7.0</td>\n",
              "      <td>2</td>\n",
              "      <td>0.0</td>\n",
              "      <td>0</td>\n",
              "      <td>20.84</td>\n",
              "      <td>28.28</td>\n",
              "    </tr>\n",
              "    <tr>\n",
              "      <th>...</th>\n",
              "      <td>...</td>\n",
              "      <td>...</td>\n",
              "      <td>...</td>\n",
              "      <td>...</td>\n",
              "      <td>...</td>\n",
              "      <td>...</td>\n",
              "      <td>...</td>\n",
              "      <td>...</td>\n",
              "      <td>...</td>\n",
              "      <td>...</td>\n",
              "    </tr>\n",
              "    <tr>\n",
              "      <th>763</th>\n",
              "      <td>0.64</td>\n",
              "      <td>784.0</td>\n",
              "      <td>343.0</td>\n",
              "      <td>220.50</td>\n",
              "      <td>3.5</td>\n",
              "      <td>5</td>\n",
              "      <td>0.4</td>\n",
              "      <td>5</td>\n",
              "      <td>17.88</td>\n",
              "      <td>21.40</td>\n",
              "    </tr>\n",
              "    <tr>\n",
              "      <th>764</th>\n",
              "      <td>0.62</td>\n",
              "      <td>808.5</td>\n",
              "      <td>367.5</td>\n",
              "      <td>220.50</td>\n",
              "      <td>3.5</td>\n",
              "      <td>2</td>\n",
              "      <td>0.4</td>\n",
              "      <td>5</td>\n",
              "      <td>16.54</td>\n",
              "      <td>16.88</td>\n",
              "    </tr>\n",
              "    <tr>\n",
              "      <th>765</th>\n",
              "      <td>0.62</td>\n",
              "      <td>808.5</td>\n",
              "      <td>367.5</td>\n",
              "      <td>220.50</td>\n",
              "      <td>3.5</td>\n",
              "      <td>3</td>\n",
              "      <td>0.4</td>\n",
              "      <td>5</td>\n",
              "      <td>16.44</td>\n",
              "      <td>17.11</td>\n",
              "    </tr>\n",
              "    <tr>\n",
              "      <th>766</th>\n",
              "      <td>0.62</td>\n",
              "      <td>808.5</td>\n",
              "      <td>367.5</td>\n",
              "      <td>220.50</td>\n",
              "      <td>3.5</td>\n",
              "      <td>4</td>\n",
              "      <td>0.4</td>\n",
              "      <td>5</td>\n",
              "      <td>16.48</td>\n",
              "      <td>16.61</td>\n",
              "    </tr>\n",
              "    <tr>\n",
              "      <th>767</th>\n",
              "      <td>0.62</td>\n",
              "      <td>808.5</td>\n",
              "      <td>367.5</td>\n",
              "      <td>220.50</td>\n",
              "      <td>3.5</td>\n",
              "      <td>5</td>\n",
              "      <td>0.4</td>\n",
              "      <td>5</td>\n",
              "      <td>16.64</td>\n",
              "      <td>16.03</td>\n",
              "    </tr>\n",
              "  </tbody>\n",
              "</table>\n",
              "<p>768 rows × 10 columns</p>\n",
              "</div>"
            ],
            "text/plain": [
              "     Relative_Compactness  Surface_Area  ...  Heating_Load  Cooling_Load\n",
              "0                    0.98         514.5  ...         15.55         21.33\n",
              "1                    0.98         514.5  ...         15.55         21.33\n",
              "2                    0.98         514.5  ...         15.55         21.33\n",
              "3                    0.98         514.5  ...         15.55         21.33\n",
              "4                    0.90         563.5  ...         20.84         28.28\n",
              "..                    ...           ...  ...           ...           ...\n",
              "763                  0.64         784.0  ...         17.88         21.40\n",
              "764                  0.62         808.5  ...         16.54         16.88\n",
              "765                  0.62         808.5  ...         16.44         17.11\n",
              "766                  0.62         808.5  ...         16.48         16.61\n",
              "767                  0.62         808.5  ...         16.64         16.03\n",
              "\n",
              "[768 rows x 10 columns]"
            ]
          },
          "metadata": {
            "tags": []
          },
          "execution_count": 20
        }
      ]
    },
    {
      "cell_type": "code",
      "metadata": {
        "id": "2xbWHbf89okL",
        "colab_type": "code",
        "colab": {
          "base_uri": "https://localhost:8080/",
          "height": 34
        },
        "outputId": "5163b28a-8bc8-44db-c2ca-1f60fde2fc0a"
      },
      "source": [
        "#Now, we split our dataset into the training and testing dataset. Recall that we\n",
        "#had earlier segmented the features and target variables.\n",
        "from sklearn.model_selection import train_test_split\n",
        "from sklearn.linear_model import LinearRegression\n",
        "x_train, x_test, y_train, y_test = train_test_split(features_df, heating_target,\n",
        "test_size=0.3, random_state=1)\n",
        "regressor = LinearRegression()\n",
        "\n",
        "regressor"
      ],
      "execution_count": null,
      "outputs": [
        {
          "output_type": "execute_result",
          "data": {
            "text/plain": [
              "LinearRegression(copy_X=True, fit_intercept=True, n_jobs=None, normalize=False)"
            ]
          },
          "metadata": {
            "tags": []
          },
          "execution_count": 14
        }
      ]
    },
    {
      "cell_type": "code",
      "metadata": {
        "id": "fX8ou4C3-D-C",
        "colab_type": "code",
        "colab": {}
      },
      "source": [
        "#Now we fit the model(regressor) to the training dataset\n",
        "regressor.fit(x_train, y_train)\n"
      ],
      "execution_count": null,
      "outputs": []
    },
    {
      "cell_type": "code",
      "metadata": {
        "id": "KeCbfwrg_zv7",
        "colab_type": "code",
        "colab": {
          "base_uri": "https://localhost:8080/",
          "height": 852
        },
        "outputId": "eae1f05b-dff4-47a5-9cf4-beb58e0bb072"
      },
      "source": [
        "#obtaining  predictions\n",
        "predicted_values = regressor.predict(x_test)\n",
        "predicted_values"
      ],
      "execution_count": null,
      "outputs": [
        {
          "output_type": "execute_result",
          "data": {
            "text/plain": [
              "array([0.17858887, 0.5814209 , 0.75366211, 0.71948242, 0.76416016,\n",
              "       0.24719238, 0.16015625, 0.61010742, 0.25488281, 0.54199219,\n",
              "       0.32104492, 0.66760254, 0.69421387, 0.30761719, 0.18518066,\n",
              "       0.7166748 , 0.56555176, 0.31433105, 0.25610352, 0.74621582,\n",
              "       0.69812012, 0.06054688, 0.60241699, 0.32666016, 0.22216797,\n",
              "       0.75842285, 0.34033203, 0.17382812, 0.80944824, 0.26831055,\n",
              "       0.69238281, 0.74975586, 0.13537598, 0.28466797, 0.55444336,\n",
              "       0.81237793, 0.3371582 , 0.13256836, 0.72045898, 0.25305176,\n",
              "       0.82666016, 0.14782715, 0.10021973, 0.15441895, 0.10961914,\n",
              "       0.14770508, 0.48364258, 0.68847656, 0.75939941, 0.72338867,\n",
              "       0.09716797, 0.67138672, 0.08752441, 0.24841309, 0.77172852,\n",
              "       0.77648926, 0.7479248 , 0.62817383, 0.14575195, 0.30285645,\n",
              "       0.17773438, 0.59765625, 0.59863281, 0.77075195, 0.56835938,\n",
              "       0.92895508, 0.68664551, 0.32006836, 0.67614746, 0.23486328,\n",
              "       0.54492188, 0.24755859, 0.23181152, 0.72851562, 0.28369141,\n",
              "       0.67932129, 0.63671875, 0.74243164, 0.25231934, 0.52587891,\n",
              "       0.13354492, 0.640625  , 0.27026367, 0.76879883, 0.2355957 ,\n",
              "       0.91455078, 0.92614746, 0.8314209 , 0.25805664, 0.1842041 ,\n",
              "       0.63867188, 0.51538086, 0.14025879, 0.75561523, 0.27124023,\n",
              "       0.6751709 , 0.13452148, 0.68566895, 0.05480957, 0.78417969,\n",
              "       0.75683594, 0.27893066, 0.60620117, 0.14953613, 0.26281738,\n",
              "       0.17749023, 0.59667969, 0.58618164, 0.61010742, 0.84094238,\n",
              "       0.92126465, 0.45324707, 0.55541992, 0.1418457 , 0.84289551,\n",
              "       0.09802246, 0.62866211, 0.70288086, 0.71520996, 0.28271484,\n",
              "       0.54870605, 0.60437012, 0.26550293, 0.54394531, 0.71289062,\n",
              "       0.28088379, 0.06530762, 0.7755127 , 0.09130859, 0.25012207,\n",
              "       0.79992676, 0.11242676, 0.7142334 , 0.80847168, 0.03405762,\n",
              "       0.68762207, 0.52685547, 0.08740234, 0.72717285, 0.22314453,\n",
              "       0.31237793, 0.60144043, 0.35083008, 0.2376709 , 0.45605469,\n",
              "       0.62902832, 0.04907227, 0.82751465, 0.62768555, 0.26745605,\n",
              "       0.16687012, 0.55065918, 0.78125   , 0.80664062, 0.31054688,\n",
              "       0.33325195, 0.63635254, 0.18322754, 0.71472168, 0.24145508,\n",
              "       0.53540039, 0.61865234, 0.72668457, 0.25585938, 0.72192383,\n",
              "       0.16430664, 0.72570801, 0.63146973, 0.34216309, 0.34313965,\n",
              "       0.15637207, 0.8371582 , 0.71765137, 0.23291016, 0.1373291 ,\n",
              "       0.69909668, 0.14477539, 0.72619629, 0.73095703, 0.23474121,\n",
              "       0.76977539, 0.08837891, 0.61584473, 0.59289551, 0.7434082 ,\n",
              "       0.08276367, 0.14111328, 0.59106445, 0.17102051, 0.15063477,\n",
              "       0.23303223, 0.75744629, 0.74523926, 0.6081543 , 0.1505127 ,\n",
              "       0.71801758, 0.03503418, 0.6439209 , 0.0625    , 0.91748047,\n",
              "       0.33618164, 0.63720703, 0.3314209 , 0.22338867, 0.5345459 ,\n",
              "       0.30957031, 0.74438477, 0.09619141, 0.22253418, 0.22058105,\n",
              "       0.71862793, 0.54589844, 0.56738281, 0.18139648, 0.09033203,\n",
              "       0.72143555, 0.17077637, 0.57958984, 0.2253418 , 0.68273926,\n",
              "       0.69140625, 0.23376465, 0.61486816, 0.10205078, 0.53076172,\n",
              "       0.78039551, 0.53161621, 0.91650391, 0.22900391, 0.48083496,\n",
              "       0.75292969])"
            ]
          },
          "metadata": {
            "tags": []
          },
          "execution_count": 16
        }
      ]
    },
    {
      "cell_type": "code",
      "metadata": {
        "id": "bcgtSVYjAEdP",
        "colab_type": "code",
        "colab": {
          "base_uri": "https://localhost:8080/",
          "height": 34
        },
        "outputId": "d7a3b8c6-732e-451f-ac84-dc6725f7dc5e"
      },
      "source": [
        "#Next is to callculate the Mean Abaolute Error\n",
        "from sklearn.metrics import mean_absolute_error\n",
        "mae = mean_absolute_error(y_test, predicted_values)\n",
        "round(mae, 3)\n"
      ],
      "execution_count": null,
      "outputs": [
        {
          "output_type": "execute_result",
          "data": {
            "text/plain": [
              "0.063"
            ]
          },
          "metadata": {
            "tags": []
          },
          "execution_count": 17
        }
      ]
    },
    {
      "cell_type": "code",
      "metadata": {
        "id": "vTu49O-yBMl5",
        "colab_type": "code",
        "colab": {
          "base_uri": "https://localhost:8080/",
          "height": 34
        },
        "outputId": "47c285cc-666e-4825-adf9-e8451c0f3f83"
      },
      "source": [
        "#sum of squared residuals\n",
        "import numpy as np\n",
        "rss = np.sum(np.square(y_test - predicted_values))\n",
        "round(rss, 3) "
      ],
      "execution_count": null,
      "outputs": [
        {
          "output_type": "execute_result",
          "data": {
            "text/plain": [
              "1.823"
            ]
          },
          "metadata": {
            "tags": []
          },
          "execution_count": 21
        }
      ]
    },
    {
      "cell_type": "code",
      "metadata": {
        "id": "WgfFmC41CPxX",
        "colab_type": "code",
        "colab": {
          "base_uri": "https://localhost:8080/",
          "height": 34
        },
        "outputId": "d78f9b6d-65e8-4dfb-895c-8326ecc84ada"
      },
      "source": [
        "#Calculating for Root Mean Square Error\n",
        "from sklearn.metrics import mean_squared_error\n",
        "rmse = np.sqrt(mean_squared_error(y_test, predicted_values))\n",
        "round(rmse, 3) "
      ],
      "execution_count": null,
      "outputs": [
        {
          "output_type": "execute_result",
          "data": {
            "text/plain": [
              "0.089"
            ]
          },
          "metadata": {
            "tags": []
          },
          "execution_count": 22
        }
      ]
    },
    {
      "cell_type": "code",
      "metadata": {
        "id": "wZZd6zXfCes-",
        "colab_type": "code",
        "colab": {
          "base_uri": "https://localhost:8080/",
          "height": 34
        },
        "outputId": "8239dcdb-654c-4ee1-f562-b1b28b72fd18"
      },
      "source": [
        "#R-Squared\n",
        "from sklearn.metrics import r2_score\n",
        "r2_score = r2_score(y_test, predicted_values)\n",
        "round(r2_score, 3) "
      ],
      "execution_count": null,
      "outputs": [
        {
          "output_type": "execute_result",
          "data": {
            "text/plain": [
              "0.893"
            ]
          },
          "metadata": {
            "tags": []
          },
          "execution_count": 23
        }
      ]
    }
  ]
}