{
  "nbformat": 4,
  "nbformat_minor": 0,
  "metadata": {
    "colab": {
      "name": "Code_Stage_C.ipynb",
      "provenance": [],
      "collapsed_sections": [],
      "include_colab_link": true
    },
    "kernelspec": {
      "name": "python3",
      "display_name": "Python 3"
    }
  },
  "cells": [
    {
      "cell_type": "markdown",
      "metadata": {
        "id": "view-in-github",
        "colab_type": "text"
      },
      "source": [
        "<a href=\"https://colab.research.google.com/github/benzine01/Ebenezer_Ise/blob/master/Code_Stage_C.ipynb\" target=\"_parent\"><img src=\"https://colab.research.google.com/assets/colab-badge.svg\" alt=\"Open In Colab\"/></a>"
      ]
    },
    {
      "cell_type": "code",
      "metadata": {
        "id": "GdiOiBkZFabN",
        "colab_type": "code",
        "colab": {
          "base_uri": "https://localhost:8080/",
          "height": 253
        },
        "outputId": "65153ae0-b1ec-4b21-f985-bfbd699eb503"
      },
      "source": [
        "#Importing the dataset\n",
        "import pandas as pd\n",
        " import numpy as np\n",
        "df = pd.read_csv('https://query.data.world/s/wh6j7rxy2hvrn4ml75ci62apk5hgae')\n",
        "#print to check for distribution\n",
        "#of target variable\n",
        "df.head()"
      ],
      "execution_count": 4,
      "outputs": [
        {
          "output_type": "stream",
          "text": [
            "/usr/local/lib/python3.6/dist-packages/IPython/core/interactiveshell.py:2718: DtypeWarning: Columns (6) have mixed types.Specify dtype option on import or set low_memory=False.\n",
            "  interactivity=interactivity, compiler=compiler, result=result)\n"
          ],
          "name": "stderr"
        },
        {
          "output_type": "execute_result",
          "data": {
            "text/html": [
              "<div>\n",
              "<style scoped>\n",
              "    .dataframe tbody tr th:only-of-type {\n",
              "        vertical-align: middle;\n",
              "    }\n",
              "\n",
              "    .dataframe tbody tr th {\n",
              "        vertical-align: top;\n",
              "    }\n",
              "\n",
              "    .dataframe thead th {\n",
              "        text-align: right;\n",
              "    }\n",
              "</style>\n",
              "<table border=\"1\" class=\"dataframe\">\n",
              "  <thead>\n",
              "    <tr style=\"text-align: right;\">\n",
              "      <th></th>\n",
              "      <th>country</th>\n",
              "      <th>year</th>\n",
              "      <th>country_code</th>\n",
              "      <th>record</th>\n",
              "      <th>crop_land</th>\n",
              "      <th>grazing_land</th>\n",
              "      <th>forest_land</th>\n",
              "      <th>fishing_ground</th>\n",
              "      <th>built_up_land</th>\n",
              "      <th>carbon</th>\n",
              "      <th>total</th>\n",
              "      <th>QScore</th>\n",
              "    </tr>\n",
              "  </thead>\n",
              "  <tbody>\n",
              "    <tr>\n",
              "      <th>0</th>\n",
              "      <td>Armenia</td>\n",
              "      <td>1992</td>\n",
              "      <td>1</td>\n",
              "      <td>AreaPerCap</td>\n",
              "      <td>0.140292</td>\n",
              "      <td>0.199546</td>\n",
              "      <td>0.097188051</td>\n",
              "      <td>0.036888</td>\n",
              "      <td>0.029320</td>\n",
              "      <td>0.000000</td>\n",
              "      <td>5.032351e-01</td>\n",
              "      <td>3A</td>\n",
              "    </tr>\n",
              "    <tr>\n",
              "      <th>1</th>\n",
              "      <td>Armenia</td>\n",
              "      <td>1992</td>\n",
              "      <td>1</td>\n",
              "      <td>AreaTotHA</td>\n",
              "      <td>483000.000000</td>\n",
              "      <td>687000.000000</td>\n",
              "      <td>334600</td>\n",
              "      <td>127000.000000</td>\n",
              "      <td>100943.000800</td>\n",
              "      <td>0.000000</td>\n",
              "      <td>1.732543e+06</td>\n",
              "      <td>3A</td>\n",
              "    </tr>\n",
              "    <tr>\n",
              "      <th>2</th>\n",
              "      <td>Armenia</td>\n",
              "      <td>1992</td>\n",
              "      <td>1</td>\n",
              "      <td>BiocapPerCap</td>\n",
              "      <td>0.159804</td>\n",
              "      <td>0.135261</td>\n",
              "      <td>0.084003213</td>\n",
              "      <td>0.013742</td>\n",
              "      <td>0.033398</td>\n",
              "      <td>0.000000</td>\n",
              "      <td>4.262086e-01</td>\n",
              "      <td>3A</td>\n",
              "    </tr>\n",
              "    <tr>\n",
              "      <th>3</th>\n",
              "      <td>Armenia</td>\n",
              "      <td>1992</td>\n",
              "      <td>1</td>\n",
              "      <td>BiocapTotGHA</td>\n",
              "      <td>550176.242700</td>\n",
              "      <td>465677.972200</td>\n",
              "      <td>289207.1078</td>\n",
              "      <td>47311.551720</td>\n",
              "      <td>114982.279300</td>\n",
              "      <td>0.000000</td>\n",
              "      <td>1.467355e+06</td>\n",
              "      <td>3A</td>\n",
              "    </tr>\n",
              "    <tr>\n",
              "      <th>4</th>\n",
              "      <td>Armenia</td>\n",
              "      <td>1992</td>\n",
              "      <td>1</td>\n",
              "      <td>EFConsPerCap</td>\n",
              "      <td>0.387510</td>\n",
              "      <td>0.189462</td>\n",
              "      <td>1.26E-06</td>\n",
              "      <td>0.004165</td>\n",
              "      <td>0.033398</td>\n",
              "      <td>1.114093</td>\n",
              "      <td>1.728629e+00</td>\n",
              "      <td>3A</td>\n",
              "    </tr>\n",
              "  </tbody>\n",
              "</table>\n",
              "</div>"
            ],
            "text/plain": [
              "   country  year  country_code  ...    carbon         total  QScore\n",
              "0  Armenia  1992             1  ...  0.000000  5.032351e-01      3A\n",
              "1  Armenia  1992             1  ...  0.000000  1.732543e+06      3A\n",
              "2  Armenia  1992             1  ...  0.000000  4.262086e-01      3A\n",
              "3  Armenia  1992             1  ...  0.000000  1.467355e+06      3A\n",
              "4  Armenia  1992             1  ...  1.114093  1.728629e+00      3A\n",
              "\n",
              "[5 rows x 12 columns]"
            ]
          },
          "metadata": {
            "tags": []
          },
          "execution_count": 4
        }
      ]
    },
    {
      "cell_type": "code",
      "metadata": {
        "id": "PDXtgMhQRmCI",
        "colab_type": "code",
        "colab": {
          "base_uri": "https://localhost:8080/",
          "height": 123
        },
        "outputId": "3470e62b-44e8-4a23-ed58-5b1872a45cee"
      },
      "source": [
        "#check the distribution of target variables\n",
        "df['QScore'].value_counts()"
      ],
      "execution_count": 5,
      "outputs": [
        {
          "output_type": "execute_result",
          "data": {
            "text/plain": [
              "3A    51481\n",
              "2A    10576\n",
              "2B    10096\n",
              "1A       16\n",
              "1B       16\n",
              "Name: QScore, dtype: int64"
            ]
          },
          "metadata": {
            "tags": []
          },
          "execution_count": 5
        }
      ]
    },
    {
      "cell_type": "code",
      "metadata": {
        "id": "-CYTIVUSR6Un",
        "colab_type": "code",
        "colab": {
          "base_uri": "https://localhost:8080/",
          "height": 247
        },
        "outputId": "3ae05e48-5e59-4c9c-f952-577d90cadc32"
      },
      "source": [
        "#Note that there are differences in target variables and the classes\n",
        "#Check for null values in the dataset\n",
        "df.isnull().sum()\n",
        "#conversly \n",
        "df.isna().sum()"
      ],
      "execution_count": 6,
      "outputs": [
        {
          "output_type": "execute_result",
          "data": {
            "text/plain": [
              "country               0\n",
              "year                  0\n",
              "country_code          0\n",
              "record                0\n",
              "crop_land         20472\n",
              "grazing_land      20472\n",
              "forest_land       20472\n",
              "fishing_ground    20473\n",
              "built_up_land     20473\n",
              "carbon            20473\n",
              "total                 9\n",
              "QScore                1\n",
              "dtype: int64"
            ]
          },
          "metadata": {
            "tags": []
          },
          "execution_count": 6
        }
      ]
    },
    {
      "cell_type": "markdown",
      "metadata": {
        "id": "t8WS3RoHStl1",
        "colab_type": "text"
      },
      "source": [
        "**NOTE**\n",
        "From the dataset, 20472 rows have missing values or null values, this can affect our analysis\n"
      ]
    },
    {
      "cell_type": "code",
      "metadata": {
        "id": "sOLXcCYjTBAS",
        "colab_type": "code",
        "colab": {
          "base_uri": "https://localhost:8080/",
          "height": 247
        },
        "outputId": "87dc8df1-ca28-4350-9301-4fd475027351"
      },
      "source": [
        "#For easy resolution, we will drop the rows with missing values\n",
        "df.dropna(inplace= True)\n",
        "df.isna().sum()"
      ],
      "execution_count": 7,
      "outputs": [
        {
          "output_type": "execute_result",
          "data": {
            "text/plain": [
              "country           0\n",
              "year              0\n",
              "country_code      0\n",
              "record            0\n",
              "crop_land         0\n",
              "grazing_land      0\n",
              "forest_land       0\n",
              "fishing_ground    0\n",
              "built_up_land     0\n",
              "carbon            0\n",
              "total             0\n",
              "QScore            0\n",
              "dtype: int64"
            ]
          },
          "metadata": {
            "tags": []
          },
          "execution_count": 7
        }
      ]
    },
    {
      "cell_type": "markdown",
      "metadata": {
        "id": "u9jhIejdTlQj",
        "colab_type": "text"
      },
      "source": [
        "**NOTE:**\n",
        "An obvious change in our target variable after removing \n",
        "the missing values is that there\n",
        "are only three classes left #and from the distribution of the 3 classes, we can see that\n",
        "there is an obvious imbalance between the classes. #There are methods that can be applied to\n",
        "handle this imbalance such as oversampling and undersampling.\n",
        "Oversampling involves increasing the number of instances in the class with fewer instances\n",
        "while undersampling #involves reducing the data points in the class with more instances.\n",
        "For now, we will convert this to a binary classification problem by combining class '2A'\n",
        "and '1A'.\n",
        "\n",
        "\n",
        "---\n",
        "\n"
      ]
    },
    {
      "cell_type": "code",
      "metadata": {
        "id": "gw247fRuUGx_",
        "colab_type": "code",
        "colab": {
          "base_uri": "https://localhost:8080/",
          "height": 70
        },
        "outputId": "784b3ff2-2ef7-47b7-e0b0-927f7b2b7668"
      },
      "source": [
        "#reset the dataframe index, to corrrect the \n",
        "#effect of the null values dropped from the dataset\n",
        "df = df.reset_index(drop= True)\n",
        "#now, we'll convert this to a binary classification problem \n",
        "#by combining class '2A' and '1A'.\n",
        "df['QScore'] = df['QScore'].replace(['1A'], '2A')\n",
        "df.QScore.value_counts()"
      ],
      "execution_count": 8,
      "outputs": [
        {
          "output_type": "execute_result",
          "data": {
            "text/plain": [
              "3A    51473\n",
              "2A      240\n",
              "Name: QScore, dtype: int64"
            ]
          },
          "metadata": {
            "tags": []
          },
          "execution_count": 8
        }
      ]
    },
    {
      "cell_type": "code",
      "metadata": {
        "id": "-qfkuAARVWlf",
        "colab_type": "code",
        "colab": {
          "base_uri": "https://localhost:8080/",
          "height": 443
        },
        "outputId": "fe1914f9-3595-417b-ee6b-dd16fdeb0907"
      },
      "source": [
        "#Seperating the target variable and\n",
        "#undesampling the 3A class\n",
        "df_2A = df[df.QScore=='2A']\n",
        "df_3A = df[df.QScore=='3A'].sample(350)\n",
        "data_df = df_2A.append(df_3A).reset_index(drop=True)\n",
        "data_df"
      ],
      "execution_count": 9,
      "outputs": [
        {
          "output_type": "execute_result",
          "data": {
            "text/html": [
              "<div>\n",
              "<style scoped>\n",
              "    .dataframe tbody tr th:only-of-type {\n",
              "        vertical-align: middle;\n",
              "    }\n",
              "\n",
              "    .dataframe tbody tr th {\n",
              "        vertical-align: top;\n",
              "    }\n",
              "\n",
              "    .dataframe thead th {\n",
              "        text-align: right;\n",
              "    }\n",
              "</style>\n",
              "<table border=\"1\" class=\"dataframe\">\n",
              "  <thead>\n",
              "    <tr style=\"text-align: right;\">\n",
              "      <th></th>\n",
              "      <th>country</th>\n",
              "      <th>year</th>\n",
              "      <th>country_code</th>\n",
              "      <th>record</th>\n",
              "      <th>crop_land</th>\n",
              "      <th>grazing_land</th>\n",
              "      <th>forest_land</th>\n",
              "      <th>fishing_ground</th>\n",
              "      <th>built_up_land</th>\n",
              "      <th>carbon</th>\n",
              "      <th>total</th>\n",
              "      <th>QScore</th>\n",
              "    </tr>\n",
              "  </thead>\n",
              "  <tbody>\n",
              "    <tr>\n",
              "      <th>0</th>\n",
              "      <td>Algeria</td>\n",
              "      <td>2016</td>\n",
              "      <td>4</td>\n",
              "      <td>AreaPerCap</td>\n",
              "      <td>2.072989e-01</td>\n",
              "      <td>8.112722e-01</td>\n",
              "      <td>0.048357265</td>\n",
              "      <td>2.258528e-02</td>\n",
              "      <td>2.998367e-02</td>\n",
              "      <td>0.000000</td>\n",
              "      <td>1.119497e+00</td>\n",
              "      <td>2A</td>\n",
              "    </tr>\n",
              "    <tr>\n",
              "      <th>1</th>\n",
              "      <td>Algeria</td>\n",
              "      <td>2016</td>\n",
              "      <td>4</td>\n",
              "      <td>AreaTotHA</td>\n",
              "      <td>8.417600e+06</td>\n",
              "      <td>3.294260e+07</td>\n",
              "      <td>1963600</td>\n",
              "      <td>9.171000e+05</td>\n",
              "      <td>1.217520e+06</td>\n",
              "      <td>0.000000</td>\n",
              "      <td>4.545842e+07</td>\n",
              "      <td>2A</td>\n",
              "    </tr>\n",
              "    <tr>\n",
              "      <th>2</th>\n",
              "      <td>Algeria</td>\n",
              "      <td>2016</td>\n",
              "      <td>4</td>\n",
              "      <td>BiocapPerCap</td>\n",
              "      <td>2.021916e-01</td>\n",
              "      <td>2.636077e-01</td>\n",
              "      <td>0.027166736</td>\n",
              "      <td>7.947991e-03</td>\n",
              "      <td>2.924496e-02</td>\n",
              "      <td>0.000000</td>\n",
              "      <td>5.301590e-01</td>\n",
              "      <td>2A</td>\n",
              "    </tr>\n",
              "    <tr>\n",
              "      <th>3</th>\n",
              "      <td>Algeria</td>\n",
              "      <td>2016</td>\n",
              "      <td>4</td>\n",
              "      <td>BiocapTotGHA</td>\n",
              "      <td>8.210214e+06</td>\n",
              "      <td>1.070408e+07</td>\n",
              "      <td>1103135.245</td>\n",
              "      <td>3.227369e+05</td>\n",
              "      <td>1.187524e+06</td>\n",
              "      <td>0.000000</td>\n",
              "      <td>2.152769e+07</td>\n",
              "      <td>2A</td>\n",
              "    </tr>\n",
              "    <tr>\n",
              "      <th>4</th>\n",
              "      <td>Algeria</td>\n",
              "      <td>2016</td>\n",
              "      <td>4</td>\n",
              "      <td>EFConsPerCap</td>\n",
              "      <td>6.280528e-01</td>\n",
              "      <td>1.810332e-01</td>\n",
              "      <td>0.162800822</td>\n",
              "      <td>1.472910e-02</td>\n",
              "      <td>2.924496e-02</td>\n",
              "      <td>1.391455</td>\n",
              "      <td>2.407316e+00</td>\n",
              "      <td>2A</td>\n",
              "    </tr>\n",
              "    <tr>\n",
              "      <th>...</th>\n",
              "      <td>...</td>\n",
              "      <td>...</td>\n",
              "      <td>...</td>\n",
              "      <td>...</td>\n",
              "      <td>...</td>\n",
              "      <td>...</td>\n",
              "      <td>...</td>\n",
              "      <td>...</td>\n",
              "      <td>...</td>\n",
              "      <td>...</td>\n",
              "      <td>...</td>\n",
              "      <td>...</td>\n",
              "    </tr>\n",
              "    <tr>\n",
              "      <th>585</th>\n",
              "      <td>Lesotho</td>\n",
              "      <td>1977</td>\n",
              "      <td>122</td>\n",
              "      <td>EFProdTotGHA</td>\n",
              "      <td>3.154166e+05</td>\n",
              "      <td>8.036874e+05</td>\n",
              "      <td>628609.4006</td>\n",
              "      <td>0.000000e+00</td>\n",
              "      <td>3.429497e+04</td>\n",
              "      <td>440445.659400</td>\n",
              "      <td>2.222454e+06</td>\n",
              "      <td>3A</td>\n",
              "    </tr>\n",
              "    <tr>\n",
              "      <th>586</th>\n",
              "      <td>Argentina</td>\n",
              "      <td>1990</td>\n",
              "      <td>9</td>\n",
              "      <td>BiocapTotGHA</td>\n",
              "      <td>4.840903e+07</td>\n",
              "      <td>7.080900e+07</td>\n",
              "      <td>33514312.82</td>\n",
              "      <td>6.966262e+07</td>\n",
              "      <td>2.197896e+06</td>\n",
              "      <td>0.000000</td>\n",
              "      <td>2.245929e+08</td>\n",
              "      <td>3A</td>\n",
              "    </tr>\n",
              "    <tr>\n",
              "      <th>587</th>\n",
              "      <td>Congo</td>\n",
              "      <td>1963</td>\n",
              "      <td>46</td>\n",
              "      <td>AreaPerCap</td>\n",
              "      <td>4.831822e-01</td>\n",
              "      <td>8.914801e+00</td>\n",
              "      <td>20.25774171</td>\n",
              "      <td>7.442968e-01</td>\n",
              "      <td>3.255097e-02</td>\n",
              "      <td>0.000000</td>\n",
              "      <td>3.043257e+01</td>\n",
              "      <td>3A</td>\n",
              "    </tr>\n",
              "    <tr>\n",
              "      <th>588</th>\n",
              "      <td>Pakistan</td>\n",
              "      <td>2007</td>\n",
              "      <td>165</td>\n",
              "      <td>BiocapPerCap</td>\n",
              "      <td>3.370932e-01</td>\n",
              "      <td>4.354961e-03</td>\n",
              "      <td>0.012322439</td>\n",
              "      <td>4.009511e-02</td>\n",
              "      <td>4.061064e-02</td>\n",
              "      <td>0.000000</td>\n",
              "      <td>4.344764e-01</td>\n",
              "      <td>3A</td>\n",
              "    </tr>\n",
              "    <tr>\n",
              "      <th>589</th>\n",
              "      <td>Costa Rica</td>\n",
              "      <td>1998</td>\n",
              "      <td>48</td>\n",
              "      <td>AreaTotHA</td>\n",
              "      <td>4.900000e+05</td>\n",
              "      <td>1.425000e+06</td>\n",
              "      <td>2413600</td>\n",
              "      <td>1.864000e+06</td>\n",
              "      <td>1.094090e+05</td>\n",
              "      <td>0.000000</td>\n",
              "      <td>6.302009e+06</td>\n",
              "      <td>3A</td>\n",
              "    </tr>\n",
              "  </tbody>\n",
              "</table>\n",
              "<p>590 rows × 12 columns</p>\n",
              "</div>"
            ],
            "text/plain": [
              "        country  year  country_code  ...         carbon         total  QScore\n",
              "0       Algeria  2016             4  ...       0.000000  1.119497e+00      2A\n",
              "1       Algeria  2016             4  ...       0.000000  4.545842e+07      2A\n",
              "2       Algeria  2016             4  ...       0.000000  5.301590e-01      2A\n",
              "3       Algeria  2016             4  ...       0.000000  2.152769e+07      2A\n",
              "4       Algeria  2016             4  ...       1.391455  2.407316e+00      2A\n",
              "..          ...   ...           ...  ...            ...           ...     ...\n",
              "585     Lesotho  1977           122  ...  440445.659400  2.222454e+06      3A\n",
              "586   Argentina  1990             9  ...       0.000000  2.245929e+08      3A\n",
              "587       Congo  1963            46  ...       0.000000  3.043257e+01      3A\n",
              "588    Pakistan  2007           165  ...       0.000000  4.344764e-01      3A\n",
              "589  Costa Rica  1998            48  ...       0.000000  6.302009e+06      3A\n",
              "\n",
              "[590 rows x 12 columns]"
            ]
          },
          "metadata": {
            "tags": []
          },
          "execution_count": 9
        }
      ]
    },
    {
      "cell_type": "code",
      "metadata": {
        "id": "ovGUjaI0ZCBx",
        "colab_type": "code",
        "colab": {
          "base_uri": "https://localhost:8080/",
          "height": 70
        },
        "outputId": "4f61647d-6af4-481d-9ac9-1c1e8e623a39"
      },
      "source": [
        "#using the scikit-learn utils function to shuffle the target variable\n",
        "import sklearn.utils\n",
        "data_df = sklearn.utils.shuffle(data_df)\n",
        "data_df = data_df.reset_index(drop=True)\n",
        "data_df.shape\n",
        "data_df.QScore.value_counts()"
      ],
      "execution_count": 11,
      "outputs": [
        {
          "output_type": "execute_result",
          "data": {
            "text/plain": [
              "3A    350\n",
              "2A    240\n",
              "Name: QScore, dtype: int64"
            ]
          },
          "metadata": {
            "tags": []
          },
          "execution_count": 11
        }
      ]
    },
    {
      "cell_type": "code",
      "metadata": {
        "id": "vBtVC7u9a0A9",
        "colab_type": "code",
        "colab": {
          "base_uri": "https://localhost:8080/",
          "height": 247
        },
        "outputId": "2fbcd6c0-878f-46d6-98c2-1c13edd59cd0"
      },
      "source": [
        "#let's view the datatypes of the dataframe after reseting\n",
        "data_df.dtypes"
      ],
      "execution_count": 12,
      "outputs": [
        {
          "output_type": "execute_result",
          "data": {
            "text/plain": [
              "country            object\n",
              "year                int64\n",
              "country_code        int64\n",
              "record             object\n",
              "crop_land         float64\n",
              "grazing_land      float64\n",
              "forest_land        object\n",
              "fishing_ground    float64\n",
              "built_up_land     float64\n",
              "carbon            float64\n",
              "total             float64\n",
              "QScore             object\n",
              "dtype: object"
            ]
          },
          "metadata": {
            "tags": []
          },
          "execution_count": 12
        }
      ]
    },
    {
      "cell_type": "markdown",
      "metadata": {
        "id": "4PUWBaKqbgha",
        "colab_type": "text"
      },
      "source": [
        "**Note:* \n",
        "We will drop country code, country and year bcause they are too ambigious for our prediction"
      ]
    },
    {
      "cell_type": "code",
      "metadata": {
        "id": "Uq6TkNixbz0q",
        "colab_type": "code",
        "colab": {
          "base_uri": "https://localhost:8080/",
          "height": 230
        },
        "outputId": "8b1da2c9-db81-4fca-fbea-91c730eb93b1"
      },
      "source": [
        "#encoding the categorical feature\n",
        "from sklearn.preprocessing import LabelEncoder\n",
        "encoder = LabelEncoder()\n",
        "data_df.record = encoder.fit_transform(data_df.record)\n",
        "data_df.record"
      ],
      "execution_count": 13,
      "outputs": [
        {
          "output_type": "execute_result",
          "data": {
            "text/plain": [
              "0      6\n",
              "1      3\n",
              "2      3\n",
              "3      5\n",
              "4      6\n",
              "      ..\n",
              "585    1\n",
              "586    5\n",
              "587    7\n",
              "588    7\n",
              "589    6\n",
              "Name: record, Length: 590, dtype: int64"
            ]
          },
          "metadata": {
            "tags": []
          },
          "execution_count": 13
        }
      ]
    },
    {
      "cell_type": "code",
      "metadata": {
        "id": "Csnx1WpSc7u-",
        "colab_type": "code",
        "colab": {}
      },
      "source": [
        "#preprocessing and unfitting columns dropping\n",
        "data_df = data_df.drop(columns=['country_code', 'country', 'year'])\n",
        "X = data_df.drop(columns='QScore')\n",
        "y = data_df['QScore']"
      ],
      "execution_count": null,
      "outputs": []
    },
    {
      "cell_type": "code",
      "metadata": {
        "id": "T8Kvp1iZdsqw",
        "colab_type": "code",
        "colab": {
          "base_uri": "https://localhost:8080/",
          "height": 70
        },
        "outputId": "50c91c95-a15e-431a-c450-849ee3bafc23"
      },
      "source": [
        "#now, let's split the data into training and testing sets\n",
        "from sklearn.model_selection import train_test_split\n",
        "X = data_df.drop(columns='QScore')\n",
        "y = data_df['QScore']\n",
        "X_train, x_test, y_train, y_test = train_test_split(X, y, test_size=0.3, random_state=0)\n",
        "y_train.value_counts()"
      ],
      "execution_count": 22,
      "outputs": [
        {
          "output_type": "execute_result",
          "data": {
            "text/plain": [
              "3A    247\n",
              "2A    166\n",
              "Name: QScore, dtype: int64"
            ]
          },
          "metadata": {
            "tags": []
          },
          "execution_count": 22
        }
      ]
    },
    {
      "cell_type": "code",
      "metadata": {
        "id": "qpf97IyHj0UW",
        "colab_type": "code",
        "colab": {
          "base_uri": "https://localhost:8080/",
          "height": 72
        },
        "outputId": "c0da4eda-293c-4df4-ce32-18f89be3f96e"
      },
      "source": [
        "#we install/import imblear\n",
        "import imblearn\n",
        "import numpy as np\n",
        "from imblearn.over_sampling import SMOTE\n",
        "smote = SMOTE(random_state=1)\n",
        "X_train_balanced, y_balanced = smote.fit_sample(X_train, y_train)"
      ],
      "execution_count": 47,
      "outputs": [
        {
          "output_type": "stream",
          "text": [
            "/usr/local/lib/python3.6/dist-packages/sklearn/utils/deprecation.py:87: FutureWarning: Function safe_indexing is deprecated; safe_indexing is deprecated in version 0.22 and will be removed in version 0.24.\n",
            "  warnings.warn(msg, category=FutureWarning)\n"
          ],
          "name": "stderr"
        }
      ]
    },
    {
      "cell_type": "code",
      "metadata": {
        "id": "wIC8c5igpF3J",
        "colab_type": "code",
        "colab": {}
      },
      "source": [
        "#using minmaxscaler to scalr every other feature aside the record column\n",
        "#beacuse the record column is not a numerical feature but a categorical one\n",
        "from sklearn.preprocessing import  MinMaxScaler\n",
        "scaler = MinMaxScaler()\n",
        "#Scaling the x_train set without the record feature\n",
        "normalized_train_df = scaler.fit_transform(X_train_balanced.(columns=['record']))\n",
        "\n",
        "#passing the scaled data into the dataframe\n",
        "normalized_train_df = pd.DaraFrame(normalized_train_df, columns=X-X_train_balanced.drop(columns=['record']).columns)\n",
        "\n",
        "#adding the record colums back\n",
        "normalized_train_df['record'] = X_train_balanced['record']"
      ],
      "execution_count": null,
      "outputs": []
    },
    {
      "cell_type": "code",
      "metadata": {
        "id": "af3DvfSpsGrT",
        "colab_type": "code",
        "colab": {}
      },
      "source": [
        "#repeat for x test\n",
        "#reset the index for easy computation\n",
        "x_test = x_test.reset_index(drop=True)\n",
        "y_test = y_test.reset_index(drop=True)\n",
        "\n",
        "normalized_test_df = scaler.transform(x_test.drop(columns=['record']))\n",
        "normalized_test_df = pd.DataFrame(normalized_test_df, columns=X_test.drop(columns=['record']).columns)\n",
        "normalized_test_df['record'] = x_test['record']"
      ],
      "execution_count": null,
      "outputs": []
    },
    {
      "cell_type": "markdown",
      "metadata": {
        "id": "-eOMtq7qty_O",
        "colab_type": "text"
      },
      "source": [
        "The cell above prepares the data for machine learning"
      ]
    },
    {
      "cell_type": "code",
      "metadata": {
        "id": "lkUnqK0pt_lG",
        "colab_type": "code",
        "colab": {}
      },
      "source": [
        "#Logistic Regression\n",
        "from sklearn.linear_model import LogisticRegression\n",
        "log_reg = LogisticRegression()\n",
        "log_reg.fit(normalized_train_df, y_balanced)\n",
        "new_predictions = log_reg.predict(normalized_train_df)\n",
        "new_predictions"
      ],
      "execution_count": null,
      "outputs": []
    },
    {
      "cell_type": "code",
      "metadata": {
        "id": "PS1WC9vrwKkz",
        "colab_type": "code",
        "colab": {}
      },
      "source": [
        "#Runnning logisticregression.__dict__\n",
        "LogisticRegression().__dict__\n"
      ],
      "execution_count": null,
      "outputs": []
    }
  ]
}