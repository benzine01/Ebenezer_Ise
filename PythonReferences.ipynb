{
  "nbformat": 4,
  "nbformat_minor": 0,
  "metadata": {
    "colab": {
      "name": "PythonReferences.ipynb",
      "provenance": [],
      "collapsed_sections": [],
      "authorship_tag": "ABX9TyOoFqSA7zDOFH1pZqbolNg8",
      "include_colab_link": true
    },
    "kernelspec": {
      "name": "python3",
      "display_name": "Python 3"
    }
  },
  "cells": [
    {
      "cell_type": "markdown",
      "metadata": {
        "id": "view-in-github",
        "colab_type": "text"
      },
      "source": [
        "<a href=\"https://colab.research.google.com/github/benzine01/cybersoldier/blob/master/PythonReferences.ipynb\" target=\"_parent\"><img src=\"https://colab.research.google.com/assets/colab-badge.svg\" alt=\"Open In Colab\"/></a>"
      ]
    },
    {
      "cell_type": "code",
      "metadata": {
        "id": "kLWKjb7IelEt",
        "colab_type": "code",
        "colab": {}
      },
      "source": [
        "#Python list demo\n",
        "number = []\n",
        "strings = []\n",
        "names = [\"John\", \"Eric\", \"Jessica\"]\n",
        "\n",
        "#Append to List above\n",
        "number.append(1)\n",
        "number.append(2)\n",
        "number.append(3)\n",
        "\n",
        "strings.append(\"hello\")\n",
        "strings.append(\"world\")\n",
        "second_name = names[1]\n",
        "\n",
        "#this code print out the filled arrays and the second name in the names list\n",
        "print(number)\n",
        "print(strings)\n",
        "print(\"The second name on the names list is %s\" % second_name)\n",
        "\n"
      ],
      "execution_count": null,
      "outputs": []
    },
    {
      "cell_type": "code",
      "metadata": {
        "id": "iUUVyLRNgit9",
        "colab_type": "code",
        "colab": {}
      },
      "source": [
        "#Python arithmetic operators order\n",
        "number = 1+2*3/4.0\n",
        "print(number)"
      ],
      "execution_count": null,
      "outputs": []
    },
    {
      "cell_type": "code",
      "metadata": {
        "id": "mXiR1EEEhWB_",
        "colab_type": "code",
        "colab": {}
      },
      "source": [
        "#modulus demo\n",
        "remainder = 11% 3\n",
        "print(remainder)"
      ],
      "execution_count": null,
      "outputs": []
    },
    {
      "cell_type": "code",
      "metadata": {
        "id": "Z8eVYk-dhtqk",
        "colab_type": "code",
        "colab": {}
      },
      "source": [
        "\n",
        "#Multipying strings\n",
        "LotsOfHellos = \"hello\" * 10\n",
        "print(LotsOfHellos )"
      ],
      "execution_count": null,
      "outputs": []
    },
    {
      "cell_type": "code",
      "metadata": {
        "id": "V2_nuizyhzgN",
        "colab_type": "code",
        "colab": {}
      },
      "source": [
        "#Adding two List \n",
        "even_numbers = [2,4,6,8]\n",
        "odd_numbers = [1,3,5,7]\n",
        "all_numbers = odd_numbers + even_numbers\n",
        "print(all_numbers)"
      ],
      "execution_count": null,
      "outputs": []
    },
    {
      "cell_type": "code",
      "metadata": {
        "id": "GEk5vSyFjAk1",
        "colab_type": "code",
        "colab": {}
      },
      "source": [
        "#String Formating \n",
        "#%s - String (or any object with a string representation, like numbers)\n",
        "#%d - Integers\n",
        "#%f - Floating point numbers\n",
        "#%.<number of digits>f - Floating point numbers with a fixed amount of digits to the right of the dot.\n",
        "#%x/%X - Integers in hex representation (lowercase/uppercase) **#\n",
        "name = \"Benzine\"\n",
        "print(\"Hello, %s!\" %name)"
      ],
      "execution_count": null,
      "outputs": []
    },
    {
      "cell_type": "code",
      "metadata": {
        "id": "tG4cqc1AkGqd",
        "colab_type": "code",
        "colab": {
          "base_uri": "https://localhost:8080/",
          "height": 34
        },
        "outputId": "ec75cafd-3e4a-4d8a-fb52-51d2b1a6dcc0"
      },
      "source": [
        "data = (\"john\", \"Doe\", 53.44)\n",
        "format_string = \"Hello %s %s. Your current balance is $%s.\"\n",
        "print( format_string  % data )"
      ],
      "execution_count": null,
      "outputs": [
        {
          "output_type": "stream",
          "text": [
            "Hello john Doe. Your current balance is $53.44.\n"
          ],
          "name": "stdout"
        }
      ]
    },
    {
      "cell_type": "code",
      "metadata": {
        "id": "1uw9jhdnn9nL",
        "colab_type": "code",
        "colab": {}
      },
      "source": [
        ""
      ],
      "execution_count": null,
      "outputs": []
    }
  ]
}